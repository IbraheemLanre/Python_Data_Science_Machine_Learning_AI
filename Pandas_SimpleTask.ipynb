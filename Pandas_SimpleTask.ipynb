{
 "cells": [
  {
   "cell_type": "code",
   "execution_count": null,
   "metadata": {},
   "outputs": [],
   "source": [
    "#!pip install --upgrade html5lib==1.0b8\n",
    "import pandas as pd\n",
    "from pandas_datareader import data # data readers (google, html, etc)\n",
    "#The following line ensures that graphs are rendered in the notebook\n",
    "%matplotlib inline # (%) is a jupyter command that says the plot graph should on the webpage\n",
    "import numpy as np\n",
    "import matplotlib.pyplot as plt #Plotting library\n",
    "import datetime as dt # datetime for time series support"
   ]
  },
  {
   "cell_type": "code",
   "execution_count": null,
   "metadata": {},
   "outputs": [],
   "source": [
    "# The structure of the dataframe\n",
    "\n",
    "pd.DataFrame([[1,2,3],[1,2,3]], columns = ['A', 'B', 'C'])\n",
    "df = pd.DataFrame([['r1', '00','01','02'], ['r2', '10','11','12'],['r3','20','21','22']], columns=['row_label', 'A', 'B', 'C'])\n",
    "print(id(df))\n",
    "#print(df)\n",
    "df.set_index('row_label', inplace = True)\n",
    "print(id(df))\n",
    "df\n",
    "\n",
    "# Getting column data\n",
    "df['B']\n",
    "#type(df)\n",
    "#type(df['B'])\n",
    "\n",
    "# Getting row data\n",
    "df.loc['r1']\n",
    "\n",
    "# Getting row by row index\n",
    "df.iloc[0]\n",
    "\n",
    "# getting multiple columns\n",
    "df[['B', 'A']]\n",
    "\n",
    "# Getting specific cells\n",
    "#df.loc['r2', 'B'] # or\n",
    "df.loc['r2']['A']\n",
    "\n",
    "# Slicing\n",
    "df.loc['r1':'r2']\n",
    "df.loc['r1':'r2', 'B':'C']"
   ]
  },
  {
   "cell_type": "code",
   "execution_count": null,
   "metadata": {},
   "outputs": [],
   "source": [
    "# Pandas DataReader\n",
    "    # Access dat from html tables on any webpage\n",
    "    # Get data from google finance\n",
    "    # Get data from the federal reserve\n",
    "    \n",
    "# HTML TABLES\n",
    "    # Pamdas datareader can read a table in an html page into a dataframe\n",
    "    # the read_html function returns a list of all dataframes with one dataframe for each \n",
    "        # html table on the page\n",
    "\n",
    "df_list = pd.read_html('http://www.contextures.com/xlSampleData01.html')\n",
    "df_list"
   ]
  },
  {
   "cell_type": "code",
   "execution_count": null,
   "metadata": {},
   "outputs": [],
   "source": [
    "df_list = pd.read_html('http://www.contextures.com/xlSampleData01.html', header=0)\n",
    "df_list\n",
    "len(df_list)\n",
    "\n",
    "df = df_list[0]\n",
    "print(df)"
   ]
  },
  {
   "cell_type": "code",
   "execution_count": null,
   "metadata": {},
   "outputs": [],
   "source": [
    "df.set_index('OrderDate', inplace=True)\n",
    "print(df)"
   ]
  },
  {
   "cell_type": "code",
   "execution_count": null,
   "metadata": {},
   "outputs": [],
   "source": [
    "# viewing \n",
    "print (df.loc['2/26/2018', 'Item'])\n",
    "\n",
    "print (df['Item'])\n",
    "\n",
    "print (df.loc['2/26/2018', 'Total'])"
   ]
  },
  {
   "cell_type": "code",
   "execution_count": null,
   "metadata": {},
   "outputs": [],
   "source": [
    "# changing index\n",
    "unit = df.loc['2/26/2018']['Units']\n",
    "df.loc['2/26/2018','Units']=230\n",
    "print(unit)\n",
    "print(df.loc['2/26/2018','Units'])"
   ]
  },
  {
   "cell_type": "code",
   "execution_count": null,
   "metadata": {},
   "outputs": [],
   "source": [
    "# Adding a new column\n",
    "df['UP']=np.where(df['Total']>500,1,0)\n",
    "df"
   ]
  },
  {
   "cell_type": "code",
   "execution_count": null,
   "metadata": {},
   "outputs": [],
   "source": [
    "# Get summary statistics. Time series analysis\n",
    "    # the 'describe' function returns a dataframe containing summary stats for all numerical columns\n",
    "    # columns containing non-numerical data are ignored\n",
    "    \n",
    "df.describe()"
   ]
  },
  {
   "cell_type": "code",
   "execution_count": null,
   "metadata": {},
   "outputs": [],
   "source": [
    "# Calculate percent changes\n",
    "    # the function pct_change computes a percent change btw successive rows (times in timeseries data)\n",
    "    # Defaults to a single time delta\n",
    "    # with an argument, the time delta can be changes\n",
    "\n",
    "# One time period percent change\n",
    "df['Units'].pct_change()"
   ]
  },
  {
   "cell_type": "code",
   "execution_count": null,
   "metadata": {},
   "outputs": [],
   "source": [
    "# we can give it an argument saying the number of days past\n",
    "\n",
    "n = 12\n",
    "df['Units'].pct_change(n).mean()"
   ]
  },
  {
   "cell_type": "code",
   "execution_count": null,
   "metadata": {},
   "outputs": [],
   "source": [
    "# Rolling windows\n",
    "    # 'rolling' function extracts rolling window\n",
    "    # for example, the 21 period rolling window of the 12 period percent change\n",
    "\n",
    "df['Units'].pct_change(n).rolling(5)"
   ]
  },
  {
   "cell_type": "code",
   "execution_count": null,
   "metadata": {},
   "outputs": [],
   "source": [
    "# Calculate something on the rolling windows\n",
    "    # Example: mean[21 days moving average of the 12 day percentage change]\n",
    "\n",
    "n = 12\n",
    "ma_5 = df['Units'].pct_change(n).rolling(5).mean()\n",
    "ma_5\n",
    "\n",
    "# Plotting\n",
    "ma_5.plot()\n",
    "\n",
    "ax1 = plt.subplot2grid((6, 1), (0, 0), rowspan = 5, colspan = 1)\n",
    "ax2 = plt.subplot2grid((6, 1), (5, 0), rowspan = 1, colspan = 1, sharex = ax1)\n",
    "ax1.plot(df.index, df['Units'])"
   ]
  }
 ],
 "metadata": {
  "kernelspec": {
   "display_name": "Python 3",
   "language": "python",
   "name": "python3"
  },
  "language_info": {
   "codemirror_mode": {
    "name": "ipython",
    "version": 3
   },
   "file_extension": ".py",
   "mimetype": "text/x-python",
   "name": "python",
   "nbconvert_exporter": "python",
   "pygments_lexer": "ipython3",
   "version": "3.7.3"
  }
 },
 "nbformat": 4,
 "nbformat_minor": 2
}
