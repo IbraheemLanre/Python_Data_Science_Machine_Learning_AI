{
 "cells": [
  {
   "cell_type": "code",
   "execution_count": 34,
   "metadata": {},
   "outputs": [
    {
     "data": {
      "text/plain": [
       "datetime.date(2017, 10, 24)"
      ]
     },
     "execution_count": 34,
     "metadata": {},
     "output_type": "execute_result"
    }
   ],
   "source": [
    " # import the date and time library\n",
    "import datetime\n",
    "d1 = datetime.date(2016,11,24)\n",
    "d2 = datetime.date(2017,10,24)\n",
    "max(d1, d2)"
   ]
  },
  {
   "cell_type": "code",
   "execution_count": 35,
   "metadata": {},
   "outputs": [
    {
     "name": "stdout",
     "output_type": "stream",
     "text": [
      "334 days, 0:00:00\n"
     ]
    }
   ],
   "source": [
    "# to print the duration btw both years\n",
    "print(d2 - d1)"
   ]
  },
  {
   "cell_type": "code",
   "execution_count": 36,
   "metadata": {},
   "outputs": [
    {
     "name": "stdout",
     "output_type": "stream",
     "text": [
      "2000-01-01 2019-11-19\n",
      "We are 7262 days, 0:00:00 days into the century\n"
     ]
    }
   ],
   "source": [
    "century_start = datetime.date(2000,1,1)\n",
    "today = datetime.date.today()\n",
    "print(century_start, today)\n",
    "print(\"We are\", today-century_start, \"days into the century\")"
   ]
  },
  {
   "cell_type": "code",
   "execution_count": 37,
   "metadata": {},
   "outputs": [
    {
     "name": "stdout",
     "output_type": "stream",
     "text": [
      "We are 7262 days into the century\n"
     ]
    }
   ],
   "source": [
    "# for a cleaner output\n",
    "print(\"We are\", (today-century_start).days, \"days into the century\")"
   ]
  },
  {
   "cell_type": "code",
   "execution_count": 38,
   "metadata": {},
   "outputs": [
    {
     "name": "stdout",
     "output_type": "stream",
     "text": [
      "2000-01-01 00:00:00 2019-11-19 01:26:06.121217\n",
      "We are 7262 days, 1:26:06.121217 days, hours, minutes and seconds into this century\n"
     ]
    }
   ],
   "source": [
    "# for datetime.datetime output i.e. includes the date and time equally\n",
    "century_start = datetime.datetime(2000,1,1,0,0,0)\n",
    "time_now = datetime.datetime.now()\n",
    "print(century_start, time_now)\n",
    "print(\"We are\", time_now-century_start, \"days, hours, minutes and seconds into this century\")"
   ]
  },
  {
   "cell_type": "code",
   "execution_count": 39,
   "metadata": {},
   "outputs": [],
   "source": [
    "# to use datetime objects to check validity\n",
    "#some_date = datetime.date(2015,2,29)\n",
    "some_date1 = datetime.date(2016,2,29)\n",
    "#some_date2 = datetime.date(2015,2,28,23,60,0)"
   ]
  },
  {
   "cell_type": "code",
   "execution_count": 40,
   "metadata": {},
   "outputs": [
    {
     "name": "stdout",
     "output_type": "stream",
     "text": [
      "days since century start 7262\n",
      "seconds since century start 627441967.338613\n",
      "minutes since century start 10457366.122310217\n",
      "hours since century start 174289.43537183697\n"
     ]
    }
   ],
   "source": [
    "#datetime.timedelta function is used to store the duration btw two points in time\n",
    "\n",
    "century_start = datetime.datetime(2000,1,1,0,0,0)\n",
    "time_now = datetime.datetime.now()\n",
    "time_since_century_start = time_now-century_start\n",
    "print(\"days since century start\", time_since_century_start.days)\n",
    "print(\"seconds since century start\", time_since_century_start.total_seconds())\n",
    "print(\"minutes since century start\", time_since_century_start.total_seconds()/60)\n",
    "print(\"hours since century start\", time_since_century_start.total_seconds()/60/60)"
   ]
  },
  {
   "cell_type": "code",
   "execution_count": 41,
   "metadata": {},
   "outputs": [
    {
     "name": "stdout",
     "output_type": "stream",
     "text": [
      "01:26:08.417789\n"
     ]
    }
   ],
   "source": [
    "# datetime.time is used to print the present time\n",
    "\n",
    "date_and_time_now = datetime.datetime.now()\n",
    "time_now = date_and_time_now.time()\n",
    "print(time_now)\n",
    "\n"
   ]
  },
  {
   "cell_type": "code",
   "execution_count": 42,
   "metadata": {
    "scrolled": true
   },
   "outputs": [
    {
     "name": "stdout",
     "output_type": "stream",
     "text": [
      "2019-11-24\n"
     ]
    }
   ],
   "source": [
    "# doing arithmetic operations on datetime objects\n",
    "#using timedelta to calculate new dates or times from a given date\n",
    "\n",
    "today = datetime.date.today()\n",
    "five_days_later = today+datetime.timedelta(days=5)\n",
    "print(five_days_later)"
   ]
  },
  {
   "cell_type": "code",
   "execution_count": 43,
   "metadata": {},
   "outputs": [
    {
     "name": "stdout",
     "output_type": "stream",
     "text": [
      "2019-11-19 01:31:14.717532\n"
     ]
    }
   ],
   "source": [
    "now= datetime.datetime.today()\n",
    "five_minutes_and_five_seconds_later = now + datetime.timedelta(minutes = 5, seconds = 5)\n",
    "print(five_minutes_and_five_seconds_later)"
   ]
  },
  {
   "cell_type": "code",
   "execution_count": 44,
   "metadata": {},
   "outputs": [
    {
     "name": "stdout",
     "output_type": "stream",
     "text": [
      "2019-11-19 01:21:05.301708\n"
     ]
    }
   ],
   "source": [
    "now = datetime.datetime.today()\n",
    "five_minutes_and_five_seconds_earlier = now + datetime.timedelta(minutes = -5, seconds = -5)\n",
    "print(five_minutes_and_five_seconds_earlier)"
   ]
  },
  {
   "cell_type": "code",
   "execution_count": 45,
   "metadata": {},
   "outputs": [
    {
     "name": "stdout",
     "output_type": "stream",
     "text": [
      "2003-04-01 00:00:00\n"
     ]
    }
   ],
   "source": [
    "# converting datetime to string\n",
    "\n",
    "#More often than not, the program will need to get the date or time from a string:\n",
    "    # from a website (bus/traing timings)\n",
    "    # from a file (date or datetime associated with a stock price)\n",
    "    # from the user (from an input statement)\n",
    "\n",
    "# Python needs to parse the string so that it correctly creates a date or time object\n",
    "\n",
    "#datetime.strptime\n",
    "    # datetime.strptime(): grabs time from a string and creates a date or datetime or time object\n",
    "    # the programmer reads to tell the function what format the string is using\n",
    "    # see http://pubs.opengroup.org/onlinepubs/00695399/functions/strptime.html for how to specify the format\n",
    "\n",
    "date = \"01-Apr-03\"\n",
    "date_object = datetime.datetime.strptime(date, '%d-%b-%y') # changes the date to the computer language\n",
    "print(date_object)"
   ]
  },
  {
   "cell_type": "code",
   "execution_count": 46,
   "metadata": {},
   "outputs": [
    {
     "name": "stdout",
     "output_type": "stream",
     "text": [
      "2:15:30\n"
     ]
    }
   ],
   "source": [
    "# for timedelta, we've to be creative to the above. To convert the inputted time from a string for useful data analysis\n",
    "bus_travel_time = '2:15:30'\n",
    "hours, minutes, seconds = bus_travel_time.split(':')\n",
    "x = datetime.timedelta(hours = int(hours), minutes = int(minutes), seconds = int(seconds))\n",
    "print(x)"
   ]
  },
  {
   "cell_type": "code",
   "execution_count": 47,
   "metadata": {},
   "outputs": [],
   "source": [
    "# or we write a function to do this for a particular format\n",
    "\n",
    "def get_timedelta (time_string):\n",
    "    hours, minutes, seconds, = time_string(':')\n",
    "    import datetime\n",
    "    return datetime.timedelta(hours = int(hours), minutes = int(minutes), seconds = int(seconds))"
   ]
  },
  {
   "cell_type": "code",
   "execution_count": 48,
   "metadata": {},
   "outputs": [
    {
     "name": "stdout",
     "output_type": "stream",
     "text": [
      "2019-11-19 01:26:12.579715 \n",
      "/19/19 01:26:12\n",
      "2019-11-19 01:26:12.579715\n"
     ]
    }
   ],
   "source": [
    "# datetime.strftime\n",
    "    # the strftime function flips the strptime function. it converts a datetime object to a string with the specified format\n",
    "\n",
    "now = datetime.datetime.now()\n",
    "string_now = datetime.datetime.strftime(now, '%n/%d/%y %H:%M:%S')\n",
    "print(now, string_now)\n",
    "print(str(now))"
   ]
  },
  {
   "cell_type": "code",
   "execution_count": 50,
   "metadata": {},
   "outputs": [],
   "source": [
    "# Bucketing timing. The \"sample_data.csv\" contains start times and processing times for all complaints registered with New York City's\n",
    "# ... 311 complaint hotline on 01/10/2016. Our goal is to compute THE AVERAGE PROCESSING TIME for each hourly bucket.\n",
    "\n",
    "# Read data\n",
    "\n",
    "data_tuples = list()\n",
    "with open ('sample_data.csv', 'r') as f:\n",
    "    for line in f:\n",
    "        data_tuples.append(line.strip().split(','))"
   ]
  },
  {
   "cell_type": "code",
   "execution_count": 51,
   "metadata": {},
   "outputs": [
    {
     "data": {
      "text/plain": [
       "[['2016-01-01 00:00:09', '0.0815162037037037'],\n",
       " ['2016-01-01 00:00:40', '0.1334837962962963'],\n",
       " ['2016-01-01 00:01:09', '20.388726851851853'],\n",
       " ['2016-01-01 00:02:59', '0.9811458333333334'],\n",
       " ['2016-01-01 00:03:03', '7.048576388888889'],\n",
       " ['2016-01-01 00:03:03', '0.1400810185185185'],\n",
       " ['2016-01-01 00:03:29', '0.11086805555555555'],\n",
       " ['2016-01-01 00:04:06', '0.016967592592592593'],\n",
       " ['2016-01-01 00:04:37', '0.1597222222222222'],\n",
       " ['2016-01-01 00:04:56', '2.996585648148148']]"
      ]
     },
     "execution_count": 51,
     "metadata": {},
     "output_type": "execute_result"
    }
   ],
   "source": [
    "# seeing the first 10 lines\n",
    "data_tuples[0:10]\n",
    "\n",
    "# element 1 of the list is a date insinde a string\n",
    "# element 2 of the list is a double inside a string\n"
   ]
  },
  {
   "cell_type": "code",
   "execution_count": 56,
   "metadata": {},
   "outputs": [
    {
     "data": {
      "text/plain": [
       "datetime.datetime(2016, 1, 1, 0, 0, 9)"
      ]
     },
     "execution_count": 56,
     "metadata": {},
     "output_type": "execute_result"
    }
   ],
   "source": [
    "# converting them by figuring out the format string\n",
    "\n",
    "x = '2016-01-01 00:00:09'\n",
    "format_str = '%Y-%m-%d %H:%M:%S'\n",
    "datetime.datetime.strptime(x,format_str)"
   ]
  },
  {
   "cell_type": "code",
   "execution_count": 61,
   "metadata": {},
   "outputs": [],
   "source": [
    "# iterating through the list of elements\n",
    "data_tuples = list()\n",
    "with open ('sample_data.csv', 'r') as f:\n",
    "    for line in f:\n",
    "        data_tuples.append(line.strip().split(','))\n",
    "\n",
    "for i in range(0,len(data_tuples)):\n",
    "    data_tuples[i][0] = datetime.datetime.strptime(data_tuples [i][0], format_str)\n",
    "    data_tuples[i][1] = float(data_tuples[i][1])"
   ]
  },
  {
   "cell_type": "code",
   "execution_count": 62,
   "metadata": {},
   "outputs": [
    {
     "data": {
      "text/plain": [
       "[[datetime.datetime(2016, 1, 1, 0, 0, 9), 0.0815162037037037],\n",
       " [datetime.datetime(2016, 1, 1, 0, 0, 40), 0.1334837962962963],\n",
       " [datetime.datetime(2016, 1, 1, 0, 1, 9), 20.388726851851853],\n",
       " [datetime.datetime(2016, 1, 1, 0, 2, 59), 0.9811458333333334],\n",
       " [datetime.datetime(2016, 1, 1, 0, 3, 3), 7.048576388888889],\n",
       " [datetime.datetime(2016, 1, 1, 0, 3, 3), 0.1400810185185185],\n",
       " [datetime.datetime(2016, 1, 1, 0, 3, 29), 0.11086805555555555],\n",
       " [datetime.datetime(2016, 1, 1, 0, 4, 6), 0.016967592592592593],\n",
       " [datetime.datetime(2016, 1, 1, 0, 4, 37), 0.1597222222222222],\n",
       " [datetime.datetime(2016, 1, 1, 0, 4, 56), 2.996585648148148]]"
      ]
     },
     "execution_count": 62,
     "metadata": {},
     "output_type": "execute_result"
    }
   ],
   "source": [
    "#printing the first 10 elements again to see the effect of the above command\n",
    "data_tuples[0:10]"
   ]
  },
  {
   "cell_type": "code",
   "execution_count": 64,
   "metadata": {},
   "outputs": [
    {
     "data": {
      "text/plain": [
       "0"
      ]
     },
     "execution_count": 64,
     "metadata": {},
     "output_type": "execute_result"
    }
   ],
   "source": [
    "# replacing the datetime by hourly buckets\n",
    "\n",
    "x = data_tuples[0][0]\n",
    "x.hour"
   ]
  },
  {
   "cell_type": "code",
   "execution_count": 69,
   "metadata": {},
   "outputs": [],
   "source": [
    "# using list comprehension to bucket the data\n",
    "\n",
    "data_tuples = ((x[0].hour, x[1]) for x in data_tuples)"
   ]
  }
 ],
 "metadata": {
  "kernelspec": {
   "display_name": "Python 3",
   "language": "python",
   "name": "python3"
  },
  "language_info": {
   "codemirror_mode": {
    "name": "ipython",
    "version": 3
   },
   "file_extension": ".py",
   "mimetype": "text/x-python",
   "name": "python",
   "nbconvert_exporter": "python",
   "pygments_lexer": "ipython3",
   "version": "3.7.3"
  }
 },
 "nbformat": 4,
 "nbformat_minor": 2
}
