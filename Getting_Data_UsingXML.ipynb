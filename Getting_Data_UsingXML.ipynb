{
 "cells": [
  {
   "cell_type": "code",
   "execution_count": null,
   "metadata": {},
   "outputs": [],
   "source": [
    "# importing the request library for web scrapping purposes\n",
    "import requests"
   ]
  },
  {
   "cell_type": "code",
   "execution_count": null,
   "metadata": {},
   "outputs": [],
   "source": [
    "# sending an HTTP request, get the response and save in a variable\n",
    "\n",
    "response = requests.get(\"http://www.epicurious.com/search/Tofu+Chili\")\n",
    "# Checking the response status code to see if everything went as planned\n",
    "# status code 200: the request response cycle was succesful\n",
    "# any other status code: it didn't woke (e.g., 404 = page not found)\n",
    "\n",
    "print(response.status_code)\n",
    "\n",
    "# Get the content of the response\n",
    "# converting to utf-8 if necessary\n",
    "\n",
    "response.content.decode('utf-8')"
   ]
  },
  {
   "cell_type": "code",
   "execution_count": null,
   "metadata": {},
   "outputs": [],
   "source": [
    "# Try Problem: Get the contents of Wikipedia's main page and look for the string \"Did you know\" in it\n",
    "\n",
    "url = \"http://en.wikipedia.org/wiki/main_page\"\n",
    "\n",
    "# word to search\n",
    "\n",
    "import requests\n",
    "\n",
    "my_response = requests.get(url)\n",
    "print(my_response)\n",
    "\n",
    "my_response1 = my_response.content.decode('utf-8')\n",
    "print(my_response1)"
   ]
  },
  {
   "cell_type": "code",
   "execution_count": null,
   "metadata": {},
   "outputs": [],
   "source": [
    "# checking the status\n",
    "my_response.status_code\n",
    "\n",
    "# now the word to find\n",
    "\n",
    "my_response1.find('Did you know')"
   ]
  },
  {
   "cell_type": "code",
   "execution_count": null,
   "metadata": {},
   "outputs": [],
   "source": [
    "# How to extract data from a string using JSON (JavaScript Object Notation) standard\n",
    "# Importing JSON library\n",
    "\n",
    "import json\n",
    "\n",
    "data_string = '[{\"b\":[2, 4], \"c\": 3.0, \"a\": \"A\"}]' # json string\n",
    "python_data = json.loads(data_string) # converts to a python dictionary list\n",
    "print(python_data)\n",
    "\n",
    "print (data_string)"
   ]
  },
  {
   "cell_type": "code",
   "execution_count": null,
   "metadata": {},
   "outputs": [],
   "source": [
    "# json.loads recursively decodes a string in JSON format into equivalent python object\n",
    "\n",
    "# data_string's outermost element is converted into a python list\n",
    "# the first element of that list is converted into a dictionary\n",
    "# the key of that dictionary is converted into a string\n",
    "# the value of that dictionary is converted into a list of two integer elements\n",
    "\n",
    "print(type(data_string), type(python_data))\n",
    "print(type(python_data[0]), python_data[0])\n",
    "print(type(python_data[0]['b']), python_data[0]['b'])\n",
    "print(python_data[0]['a'])"
   ]
  },
  {
   "cell_type": "code",
   "execution_count": null,
   "metadata": {},
   "outputs": [],
   "source": [
    "# writing the correct format when reading a JSON file\n",
    "\n",
    "# wrong format\n",
    "json.loads(\"Hello\") # this returns a exception \n",
    "\n",
    "# correct format\n",
    "json.loads ('\"Hello\"')"
   ]
  },
  {
   "cell_type": "code",
   "execution_count": null,
   "metadata": {},
   "outputs": [],
   "source": [
    "# REQUESTS LIBRARY AND JSON\n",
    "# calling a json command automatically to our json file from the internet with asking for decodes, status etc\n",
    "# always check for exceptions\n",
    "\n",
    "address = \"Columbia University, New York, NY\"\n",
    "url = \"https://maps.googleapis.com/maps/api/geocode/json?address=%s\" % (address) # %s concatenate the address to the url\n",
    "my_response = requests.get(url).json()\n",
    "print(type(my_response))"
   ]
  },
  {
   "cell_type": "code",
   "execution_count": null,
   "metadata": {},
   "outputs": [],
   "source": [
    "# to check for an exception\n",
    "\n",
    "address = \"Columbia University, New York, NY\"\n",
    "url = \"https://maps.googleapis.com/maps/api/geocode/json?address=%s\" % (address) # %s concatenate the address to the url\n",
    "try:\n",
    "    my_response = requests.get(url)\n",
    "    if not my_response.status_code == 200:\n",
    "        print(\"HTTP error\", my_response.status_code)\n",
    "    else:\n",
    "        try:\n",
    "            my_response_data = my_response.json()\n",
    "        except:\n",
    "            print(\"Response not in valid JSON format\")\n",
    "except:\n",
    "    print(\"Something went wrong with requests.get\")\n",
    "print(type(my_response_data))"
   ]
  },
  {
   "cell_type": "code",
   "execution_count": null,
   "metadata": {},
   "outputs": [],
   "source": [
    "print(url)"
   ]
  },
  {
   "cell_type": "code",
   "execution_count": null,
   "metadata": {},
   "outputs": [],
   "source": [
    "# XML (Extensible Markup Language). This is displayed in form of a family tree\n",
    "data_string = \"\"\"\n",
    "<Bookstore>\n",
    "   <Book ISBN=\"ISBN-13:978-1599620787\" Price=\"15.23\" Weight=\"1.5\">\n",
    "      <Title>New York Deco</Title>\n",
    "      <Authors>\n",
    "         <Author Residence=\"New York City\">\n",
    "            <First_Name>Richard</First_Name>\n",
    "            <Last_Name>Berenholtz</Last_Name>\n",
    "         </Author>\n",
    "      </Authors>\n",
    "   </Book>\n",
    "   <Book ISBN=\"ISBN-13:978-1579128562\" Price=\"15.80\">\n",
    "      <Remark>\n",
    "      Five Hundred Buildings of New York and over one million other books are available for Amazon Kindle.\n",
    "      </Remark>\n",
    "      <Title>Five Hundred Buildings of New York</Title>\n",
    "      <Authors>\n",
    "         <Author Residence=\"Beijing\">\n",
    "            <First_Name>Bill</First_Name>\n",
    "            <Last_Name>Harris</Last_Name>\n",
    "         </Author>\n",
    "         <Author Residence=\"New York City\">\n",
    "            <First_Name>Jorg</First_Name>\n",
    "            <Last_Name>Brockmann</Last_Name>\n",
    "         </Author>\n",
    "      </Authors>\n",
    "   </Book>\n",
    "</Bookstore>\n",
    "\"\"\""
   ]
  },
  {
   "cell_type": "code",
   "execution_count": null,
   "metadata": {},
   "outputs": [],
   "source": [
    "# iterating over an XML tree\n",
    "# use an iterator\n",
    "# the iterator will generate every tree element in a given subtree\n",
    "\n",
    "for element in root.iter():\n",
    "    print(element)"
   ]
  },
  {
   "cell_type": "code",
   "execution_count": null,
   "metadata": {},
   "outputs": [],
   "source": [
    "# Another method is to use the child in the subtree construction\n",
    "\n",
    "for child in root:\n",
    "    print(child)"
   ]
  },
  {
   "cell_type": "code",
   "execution_count": null,
   "metadata": {},
   "outputs": [],
   "source": [
    "# Accessing the tag\n",
    "\n",
    "for child in root:\n",
    "    print(child.tag)"
   ]
  },
  {
   "cell_type": "code",
   "execution_count": null,
   "metadata": {},
   "outputs": [],
   "source": [
    "# Using the iterator to get specific tags\n",
    "    # In the example below, only the author tags are accessed\n",
    "    # For each author tag, the find function access the First_name and Last_name tags\n",
    "    # The find function only looks at the children, not other descendants\n",
    "    # the .text attribute prints the text in a leaf node\n",
    "    \n",
    "for element in root.iter(\"Author\"):\n",
    "    print(element.find('First_Name').text, element.find('Last_Name').text)"
   ]
  },
  {
   "cell_type": "code",
   "execution_count": null,
   "metadata": {},
   "outputs": [],
   "source": [
    "# Problem: Print the first and last names of all authors in the tree \"root\" using xpath and findall function\n",
    "\n",
    "for element in root.findall(\"Book/Authors/Author/Last_Name\"):\n",
    "    print(element.text)"
   ]
  },
  {
   "cell_type": "code",
   "execution_count": null,
   "metadata": {},
   "outputs": [],
   "source": [
    "#lxml: searching by attribute value\n",
    "    # Using values of attributes s filters\n",
    "    # Example: Find the first name of the author of a book that weighs 1.5kg\n",
    "\n",
    "root.find('Book[@Weight = \"1.5\"]/Authors/Author/First_Name').text"
   ]
  },
  {
   "cell_type": "code",
   "execution_count": null,
   "metadata": {},
   "outputs": [],
   "source": [
    "# Problem 3: Print the first and last name of all authors who live in New York City\n",
    "\n",
    "for firstname, lastname in zip (root.findall(\"Book/Authors/Author[@Residence = 'New York City']/First_Name\"),\n",
    "                                root.findall(\"Book/Authors/Author[@Residence = 'New York City']/Last_Name\")):\n",
    "    print(firstname.text + ' ' + lastname.text)"
   ]
  }
 ],
 "metadata": {
  "kernelspec": {
   "display_name": "Python 3",
   "language": "python",
   "name": "python3"
  },
  "language_info": {
   "codemirror_mode": {
    "name": "ipython",
    "version": 3
   },
   "file_extension": ".py",
   "mimetype": "text/x-python",
   "name": "python",
   "nbconvert_exporter": "python",
   "pygments_lexer": "ipython3",
   "version": "3.7.3"
  }
 },
 "nbformat": 4,
 "nbformat_minor": 2
}
