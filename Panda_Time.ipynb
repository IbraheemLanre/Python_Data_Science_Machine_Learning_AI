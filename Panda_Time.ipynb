{
 "cells": [
  {
   "cell_type": "code",
   "execution_count": null,
   "metadata": {},
   "outputs": [],
   "source": [
    "# Converting the date and time into pandas datetime objects\n",
    "import datetime\n",
    "data['Created Date'] = data['Created Date'].apply(lambda x:datetime.datetime.strptime(x, '%m/%d/%Y %I:%M:%S %p'))\n",
    "data['Created Date'][0:20]"
   ]
  },
  {
   "cell_type": "code",
   "execution_count": null,
   "metadata": {},
   "outputs": [],
   "source": [
    "# Creating a new column that tracks the time it takes to close a complaint\n",
    "data['processing_time'] = data['Closed Date'] - data['Created Date']\n",
    "# looking at the summary\n",
    "data['processing_time'].describe()"
   ]
  },
  {
   "cell_type": "code",
   "execution_count": null,
   "metadata": {},
   "outputs": [],
   "source": [
    "# calling the negative processing time \n",
    "data[data['processing_time'] < datetime.timedelta(0,0,0)]"
   ]
  },
  {
   "cell_type": "code",
   "execution_count": null,
   "metadata": {},
   "outputs": [],
   "source": [
    "# Calling the large processing time as well i.e. 148 days\n",
    "data[data['processing_time'] > datetime.timedelta(148,0,0)]"
   ]
  },
  {
   "cell_type": "code",
   "execution_count": null,
   "metadata": {},
   "outputs": [],
   "source": [
    "# Throwing away time with negative values\n",
    "data[data['processing_time'] >= datetime.timedelta(0,0,0)]"
   ]
  },
  {
   "cell_type": "code",
   "execution_count": null,
   "metadata": {},
   "outputs": [],
   "source": [
    "# Creating a new column that tracks the time it takes to close a complaints\n",
    "data['processing_time'] =  data['Closed Date'] - data['Created Date']"
   ]
  }
 ],
 "metadata": {
  "kernelspec": {
   "display_name": "Python 3",
   "language": "python",
   "name": "python3"
  },
  "language_info": {
   "codemirror_mode": {
    "name": "ipython",
    "version": 3
   },
   "file_extension": ".py",
   "mimetype": "text/x-python",
   "name": "python",
   "nbconvert_exporter": "python",
   "pygments_lexer": "ipython3",
   "version": "3.7.3"
  }
 },
 "nbformat": 4,
 "nbformat_minor": 2
}
