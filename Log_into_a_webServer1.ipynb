{
 "cells": [
  {
   "cell_type": "code",
   "execution_count": 3,
   "metadata": {},
   "outputs": [],
   "source": [
    "# Logging in to a web server\n",
    "#Get username and password\n",
    "    #Best to store in a file for reuse\n",
    "    #You will need to set up your own login and password and place them in a file called wikidata.txt\n",
    "    #Line one of the file should contain your username\n",
    "    #Line two your password\n",
    "\n",
    "with open ('wikidata.txt') as f:\n",
    "    contents = f.read().split('\\n')\n",
    "    username = contents[0]\n",
    "    password = contents[1]"
   ]
  },
  {
   "cell_type": "code",
   "execution_count": 15,
   "metadata": {},
   "outputs": [],
   "source": [
    "# Construct an object that contains the data to be sent to the login page\n",
    "payload = {\n",
    "    'wpName': username,\n",
    "    'wpPassword': password,\n",
    "    'wploginattempt': 'Log in',\n",
    "    'wpEditToken': \"+\\\\\",\n",
    "    'title': \"Special:UserLogin\",\n",
    "    'authAction': \"login\",\n",
    "    'force': \"\",\n",
    "    'wpForceHttps': \"1\",\n",
    "    'wpFromhttp': \"1\",\n",
    "    #'wpLoginToken': ‘', #We need to read this from the page\n",
    "    }"
   ]
  },
  {
   "cell_type": "code",
   "execution_count": 16,
   "metadata": {},
   "outputs": [],
   "source": [
    "# get the value of the token\n",
    "def get_login_token(response):\n",
    "    soup = BeautifulSoup(response.text, 'lxml')\n",
    "    token = soup.find('input',{'name':\"wpLoginToken\"}).get('value')\n",
    "    return token"
   ]
  },
  {
   "cell_type": "code",
   "execution_count": null,
   "metadata": {},
   "outputs": [],
   "source": [
    "import requests\n",
    "from bs4 import BeautifulSoup\n",
    "with requests.session() as s:\n",
    "    response = s.get('https://en.wikipedia.org/w/index.php?title=Special:UserLogin&returnto=Main+Page')\n",
    "    payload['wpLoginToken'] = get_login_token(response)\n",
    "    #Send the login request\n",
    "    response_post = s.post('https://en.wikipedia.org/w/index.php?title=Special:UserLogin&action=submitlogin&type=login',\n",
    "                           data=payload)\n",
    "    #Get another page and check if we’re still logged in\n",
    "    response = s.get('https://en.wikipedia.org/wiki/Special:Watchlist')\n",
    "    data = BeautifulSoup(response.content,'lxml')\n",
    "    print(data.find('div',class_='mw-changeslist').get_text())"
   ]
  },
  {
   "cell_type": "code",
   "execution_count": null,
   "metadata": {},
   "outputs": [],
   "source": []
  }
 ],
 "metadata": {
  "kernelspec": {
   "display_name": "Python 3",
   "language": "python",
   "name": "python3"
  },
  "language_info": {
   "codemirror_mode": {
    "name": "ipython",
    "version": 3
   },
   "file_extension": ".py",
   "mimetype": "text/x-python",
   "name": "python",
   "nbconvert_exporter": "python",
   "pygments_lexer": "ipython3",
   "version": "3.7.3"
  }
 },
 "nbformat": 4,
 "nbformat_minor": 2
}
