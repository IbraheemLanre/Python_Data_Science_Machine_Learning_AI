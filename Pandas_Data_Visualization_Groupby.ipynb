{
 "cells": [
  {
   "cell_type": "code",
   "execution_count": null,
   "metadata": {},
   "outputs": [],
   "source": [
    "# The pandas groupby function\n",
    "import pandas as pd\n",
    "writers = pd.DataFrame({'Author':['George Orwell','John Steinback','Pearl Buck','Agatha Christie'],\n",
    "                        'Country':['UK', 'USA', 'USA', 'UK'],\n",
    "                        'Gender':['M', 'M', 'F', 'F'],\n",
    "                        'Age':[46, 66, 80, 85]})\n",
    "writers"
   ]
  },
  {
   "cell_type": "code",
   "execution_count": null,
   "metadata": {},
   "outputs": [],
   "source": [
    "# Group by country\n",
    "grouped = writers.groupby('Country')\n",
    "grouped\n",
    "#grouped.first()\n",
    "#grouped.last()\n",
    "grouped.sum()\n",
    "grouped.mean()\n",
    "grouped.apply(sum)"
   ]
  },
  {
   "cell_type": "code",
   "execution_count": null,
   "metadata": {},
   "outputs": [],
   "source": [
    "# Grouping by multiple columns\n",
    "grouped = writers.groupby(['Country', 'Gender'])\n",
    "grouped.groups"
   ]
  },
  {
   "cell_type": "code",
   "execution_count": null,
   "metadata": {},
   "outputs": [],
   "source": [
    "# Group by age groups\n",
    "def age_groups(df, index, col):\n",
    "    print(index, col)\n",
    "    if df[col].iloc[index] < 30:\n",
    "        return 'Young'\n",
    "    if df[col].iloc[index] < 60:\n",
    "        return 'Middle'\n",
    "    else:\n",
    "        return 'Old'\n",
    "\n",
    "writers['Age'].iloc[0]"
   ]
  },
  {
   "cell_type": "code",
   "execution_count": null,
   "metadata": {},
   "outputs": [],
   "source": [
    "grouped = writers.groupby(lambda x: age_groups(writers,x,'Age'))\n",
    "grouped.groups"
   ]
  },
  {
   "cell_type": "code",
   "execution_count": null,
   "metadata": {},
   "outputs": [],
   "source": [
    "# Grouping by the values that are less than or greater than in a column\n",
    "import numpy as np\n",
    "people = pd.DataFrame(np.random.randn(5, 5), columns = ['a', 'b', 'c', 'd', 'e'], index = ['Joe', 'Steve', 'Wes', 'Jim', 'Travis'])\n",
    "people\n"
   ]
  },
  {
   "cell_type": "code",
   "execution_count": null,
   "metadata": {},
   "outputs": [],
   "source": [
    "# Writing a function that takes the arguments - a dataframe, an index and a column name and returns the grouping for that row\n",
    "\n",
    "def row_grouping(df, index, col):\n",
    "    if df[col].loc[index] > 0:\n",
    "        return 'Group1'\n",
    "    else:\n",
    "        return 'Group2'\n",
    "\n",
    "people.groupby(lambda x: row_grouping(people, x, 'a')).groups\n",
    "people[['a','b']]\n",
    "print(people.groupby(lambda x: row_grouping(people, x, 'a')).mean())\n",
    "print(people.groupby(lambda x: row_grouping(people, x, 'a')).std())"
   ]
  }
 ],
 "metadata": {
  "kernelspec": {
   "display_name": "Python 3",
   "language": "python",
   "name": "python3"
  },
  "language_info": {
   "codemirror_mode": {
    "name": "ipython",
    "version": 3
   },
   "file_extension": ".py",
   "mimetype": "text/x-python",
   "name": "python",
   "nbconvert_exporter": "python",
   "pygments_lexer": "ipython3",
   "version": "3.7.3"
  }
 },
 "nbformat": 4,
 "nbformat_minor": 2
}
