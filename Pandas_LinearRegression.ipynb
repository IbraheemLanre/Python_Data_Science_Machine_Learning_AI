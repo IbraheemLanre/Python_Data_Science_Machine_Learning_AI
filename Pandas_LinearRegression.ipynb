{
 "cells": [
  {
   "cell_type": "code",
   "execution_count": null,
   "metadata": {},
   "outputs": [],
   "source": [
    "import datetime\n",
    "import pandas_datareader as data\n",
    "start = datetime.datetime(2018,12,1)\n",
    "end = datetime.datetime(2019,11,1)\n",
    "energy_df = data.DataReader(['FSLR', 'TAN', 'RGSE', 'SCTY'], 'yahoo', start = start, end = end)['Close']\n",
    "energy_df"
   ]
  },
  {
   "cell_type": "code",
   "execution_count": null,
   "metadata": {},
   "outputs": [],
   "source": [
    "# Visualizing the relationship btw each stock and the ETF\n",
    "import matplotlib.pyplot as plt\n",
    "plt.scatter(returns.RGSE, returns.TAN)\n",
    "plt.scatter(returns.FSLR, returns.TAN)\n",
    "plt.scatter(returns.SCTY, returns.TAN)"
   ]
  },
  {
   "cell_type": "code",
   "execution_count": null,
   "metadata": {},
   "outputs": [],
   "source": [
    "energy_corr = returns.corr()\n",
    "print(energy_corr)"
   ]
  },
  {
   "cell_type": "code",
   "execution_count": null,
   "metadata": {},
   "outputs": [],
   "source": [
    "# Basic Risk Analysis\n",
    "    # Plotting the mean and std for each ticker to get a sense of the risk return profile\n",
    "returns.mean()"
   ]
  },
  {
   "cell_type": "code",
   "execution_count": null,
   "metadata": {},
   "outputs": [],
   "source": [
    "plt.scatter(returns.mean(), returns.std())\n",
    "plt.xlabel('Expected returns')\n",
    "plt.ylabel('Standard deviations')\n",
    "for label, x, y in zip(returns.columns, returns.mean(), returns.std()):\n",
    "    plt.annotate(\n",
    "        label,\n",
    "        xy = (x, y), xytext = (20, -20),\n",
    "        textcoords = 'offset points', ha = 'right', va = 'bottom',\n",
    "        bbox = dict(boxstyle = 'round,pad=0.5', fc = 'yellow', alpha = 0.9),\n",
    "        arrowprops = dict(arrowstyle = '->', connectionstyle = 'arc3,rad=0'))\n",
    "plt.show"
   ]
  },
  {
   "cell_type": "code",
   "execution_count": null,
   "metadata": {},
   "outputs": [],
   "source": [
    "# Regression\n",
    "# Steps for regression\n",
    "    # Construct y (dependent variable series)\n",
    "    # Construct matrix (dataframe) of X (Independent variable series)\n",
    "    # Add intercept\n",
    "    # Model the regression\n",
    "    # Get the results\n",
    "\n",
    "# check https://statsmodels.sourceforge.net/\n",
    "\n",
    "import numpy as np\n",
    "import statsmodels.api as sm\n",
    "X = energy_df[['FSLR', 'RGSE', 'SCTY']]\n",
    "X = sm.add_constant(X)\n",
    "y = energy_df['TAN']\n",
    "model = sm.OLS(y, X, missing = 'drop')\n",
    "result = model.fit()\n",
    "print(result.summary())\n",
    "        "
   ]
  },
  {
   "cell_type": "code",
   "execution_count": null,
   "metadata": {},
   "outputs": [],
   "source": [
    "# Finally plot the fitted line with the actual y values\n",
    "fig, ax = plt.subplots(figsize=(8,6))\n",
    "ax.plot(y)\n",
    "ax.plot(result.fittedvalues)"
   ]
  }
 ],
 "metadata": {
  "kernelspec": {
   "display_name": "Python 3",
   "language": "python",
   "name": "python3"
  },
  "language_info": {
   "codemirror_mode": {
    "name": "ipython",
    "version": 3
   },
   "file_extension": ".py",
   "mimetype": "text/x-python",
   "name": "python",
   "nbconvert_exporter": "python",
   "pygments_lexer": "ipython3",
   "version": "3.7.3"
  }
 },
 "nbformat": 4,
 "nbformat_minor": 2
}
