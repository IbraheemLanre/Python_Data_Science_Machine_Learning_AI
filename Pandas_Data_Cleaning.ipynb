{
 "cells": [
  {
   "cell_type": "code",
   "execution_count": null,
   "metadata": {},
   "outputs": [],
   "source": [
    "# given a name to the data to be read in\n",
    "datafile = \"your_data_here\"\n",
    "\n",
    "import pandas as pd\n",
    "import numpy as np"
   ]
  },
  {
   "cell_type": "code",
   "execution_count": null,
   "metadata": {},
   "outputs": [],
   "source": [
    "# reading a csv file\n",
    "data = pd.read_csv(table)\n",
    "data\n"
   ]
  },
  {
   "cell_type": "code",
   "execution_count": null,
   "metadata": {},
   "outputs": [],
   "source": [
    "#Checking out the data looks like\n",
    "data.info()"
   ]
  },
  {
   "cell_type": "code",
   "execution_count": null,
   "metadata": {},
   "outputs": [],
   "source": [
    "# Using our Unique Key column as an index\n",
    "data = pd.read_csv(table, index_col = 'Unique Key')"
   ]
  },
  {
   "cell_type": "code",
   "execution_count": null,
   "metadata": {},
   "outputs": [],
   "source": [
    "#showing the first ten rows\n",
    "data.iloc[1:10]"
   ]
  },
  {
   "cell_type": "code",
   "execution_count": null,
   "metadata": {},
   "outputs": [],
   "source": [
    "# checking the values in a single column\n",
    "data['Incident Zip'].unique()"
   ]
  },
  {
   "cell_type": "code",
   "execution_count": null,
   "metadata": {},
   "outputs": [],
   "source": [
    "# A function to drop rows with NaN and mixed values using exceotion handler\n",
    "def fix_zip(input_zip):\n",
    "    try:\n",
    "        input_zip = int(float(input_zip))\n",
    "    except:\n",
    "        try:\n",
    "            input_zip = int(input_zip.split('-')[0])\n",
    "        except:\n",
    "            return np.NaN\n",
    "    if input_zip < 10000 or input_zip > 19999:\n",
    "        return np.NaN\n",
    "    return str(input_zip)\n",
    "\n",
    "# testing the code above\n",
    "fix_zip('11211.00')"
   ]
  },
  {
   "cell_type": "code",
   "execution_count": null,
   "metadata": {},
   "outputs": [],
   "source": [
    "#Applying the function to other elements\n",
    "data['Incident Zip'] = data['Incident Zip'].apply(fix_zip)\n",
    "data['Incident Zip'].unique()"
   ]
  },
  {
   "cell_type": "code",
   "execution_count": null,
   "metadata": {},
   "outputs": [],
   "source": [
    "# Finally droppng rows with zip == NaN\n",
    "data = data[data['Incident Zip'].notnull()]\n",
    "data"
   ]
  },
  {
   "cell_type": "code",
   "execution_count": null,
   "metadata": {},
   "outputs": [],
   "source": [
    "# Checking the data again\n",
    "data.info()"
   ]
  },
  {
   "cell_type": "code",
   "execution_count": null,
   "metadata": {},
   "outputs": [],
   "source": [
    "# Looking at the Unspecified column under Borough giving us info of the Agency and Incident Zip\n",
    "data[data['Borough']=='Unspecified'][['Agency','Incident Zip']]"
   ]
  },
  {
   "cell_type": "code",
   "execution_count": null,
   "metadata": {},
   "outputs": [],
   "source": [
    "# checking what wrong with the NYPD complaint if it has significant effect\n",
    "nypd_complaints_total = data[data['Agency'] == 'NYPD']['Borough'].count()\n",
    "nypd_unspecified = data[(data['Borough']=='Unspecified') & (data['Agency']==\"NYPD\")]['Borough'].count()\n",
    "percentage = nypd_unspecified/nypd_complaints_total*100\n",
    "print(\"%1.2f\"%percentage)\n",
    "print(nypd_complaints_total)\n",
    "print(nypd_unspecified)"
   ]
  },
  {
   "cell_type": "code",
   "execution_count": null,
   "metadata": {},
   "outputs": [],
   "source": [
    "# Checking the rest of the Borough that are Unspecified column\n",
    "data = data[data['Borough'] != 'Unspecified']\n",
    "data.info()"
   ]
  },
  {
   "cell_type": "code",
   "execution_count": null,
   "metadata": {},
   "outputs": [],
   "source": []
  },
  {
   "cell_type": "code",
   "execution_count": null,
   "metadata": {},
   "outputs": [],
   "source": []
  }
 ],
 "metadata": {
  "kernelspec": {
   "display_name": "Python 3",
   "language": "python",
   "name": "python3"
  },
  "language_info": {
   "codemirror_mode": {
    "name": "ipython",
    "version": 3
   },
   "file_extension": ".py",
   "mimetype": "text/x-python",
   "name": "python",
   "nbconvert_exporter": "python",
   "pygments_lexer": "ipython3",
   "version": "3.7.3"
  }
 },
 "nbformat": 4,
 "nbformat_minor": 2
}
