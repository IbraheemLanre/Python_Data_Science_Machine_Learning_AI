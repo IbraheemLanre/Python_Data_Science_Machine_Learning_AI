{
 "cells": [
  {
   "cell_type": "code",
   "execution_count": null,
   "metadata": {},
   "outputs": [],
   "source": [
    "import requests\n",
    "from bs4 import BeautifulSoup"
   ]
  },
  {
   "cell_type": "code",
   "execution_count": null,
   "metadata": {},
   "outputs": [],
   "source": [
    "# The http request response cycle\n",
    "url = \"http://www.epicurious.com/search/Tofu Chili\"\n",
    "response = requests.get(url)\n",
    "if response.status_code == 200:\n",
    "    print(\"Success\")\n",
    "else:\n",
    "    print(\"Failure\")"
   ]
  },
  {
   "cell_type": "code",
   "execution_count": null,
   "metadata": {},
   "outputs": [],
   "source": [
    "# Taking input from the user\n",
    "keywords = input(\"Please enter the things you want to use in a recipe: \")\n",
    "url = \"http://www.epicurious.com/search/\"+ keywords\n",
    "response = requests.get(url)\n",
    "if response.status_code == 200:\n",
    "    print(\"Success\")\n",
    "else:\n",
    "    print(\"Failure\")"
   ]
  },
  {
   "cell_type": "code",
   "execution_count": null,
   "metadata": {},
   "outputs": [],
   "source": [
    "# Checking the content of a website\n",
    "result_page = BeautifulSoup(response.content, 'lxml')\n",
    "print(result_page.prettify())"
   ]
  },
  {
   "cell_type": "code",
   "execution_count": null,
   "metadata": {},
   "outputs": [],
   "source": [
    "# BS4 Functions\n",
    "    # \"find_all\" finds all instances of a specified tag and returns a result_set (a list)\n",
    "\n",
    "all_a_tags = result_page.find_all('a')\n",
    "print(all_a_tags)\n",
    "print(type(all_a_tags))"
   ]
  },
  {
   "cell_type": "code",
   "execution_count": null,
   "metadata": {},
   "outputs": [],
   "source": [
    "# \"find\" finds the first instance of a specified tag and returns a bs4 element\n",
    "div_tag = result_page.find('div')\n",
    "print(div_tag)\n",
    "print(type(div_tag))\n",
    "\n",
    "# Both find and find_all can be qualified by css selectors\n",
    "    # Using selectors = value\n",
    "    # Using a dictionary\n",
    "# when using this method and looking for a class we could name it 'class_' since class is a reserved word in python\n",
    "# We get a list as result since find_all method returns a list\n",
    "\n",
    "a = result_page.find_all('article', class_ = 'recipe-content-card')\n",
    "len(a)\n",
    "\n",
    "#Since we're using a string as the key, the fact that class is a reserved word is not a problem\n",
    "#We get an element back because find returns an element\n",
    "result_page.find('article',{'class':'recipe-content-card'})\n",
    "\n",
    "# Using get_text with the find function\n",
    "result_page.find('article',{'class':'recipe-content-card'}).get_text()\n",
    "\n",
    "# Using 'get' with the find function. The get returns the value of a tag attribute in form of a string\n",
    "recipe_tag = result_page.find('article',{'class':'recipe-content-card'})\n",
    "recipe_link = result_page.find('a')\n",
    "print(\"a_tag\", recipe_link)\n",
    "link_url = \"http://www.epicurious.com\"+recipe_link.get('href')\n",
    "print(\"link_url:\", link_url)\n",
    "print(type(link_url))\n",
    "\n"
   ]
  },
  {
   "cell_type": "code",
   "execution_count": null,
   "metadata": {},
   "outputs": [],
   "source": [
    "# A vivid example\n",
    "\n",
    "def get_recipes(keywords):\n",
    "    recipe_list = list()\n",
    "    import requests\n",
    "    from bs4 import BeautifulSoup\n",
    "    url = \"http://www.epicurious.com/search/\" + keywords\n",
    "    response = requests.get(url)\n",
    "    if not response.status_code == 200:\n",
    "        return recipe_list\n",
    "    try:\n",
    "        results_page = BeautifulSoup(response.content, 'lxml')\n",
    "        recipes = results_page.find_all('article', class_ = 'recipe-content-card')\n",
    "        for recipe in recipes:\n",
    "            recipe_name = recipe.find('a').get_text()\n",
    "            recipe_link = \"http://www.epicurious.com\"+recipe.find('a').get('href')\n",
    "            recipe_description = recipe.find('p', class_ = 'dek').get_text()\n",
    "            recipe_list.append((recipe_name, recipe_link, recipe_description))\n",
    "            \n",
    "    except:\n",
    "        return recipe_list\n",
    "    \n",
    "    return recipe_list\n",
    "\n",
    "get_recipes(\"Lamb chops\")"
   ]
  },
  {
   "cell_type": "code",
   "execution_count": null,
   "metadata": {},
   "outputs": [],
   "source": [
    "# let's write a function that given a recipe link returns a dictionary containing the ingredients\n",
    "# and instruction for preparation\n",
    "\n",
    "recipe_link = \"http://www.epicurious.com\" + \"/recipes/food/views/grilled-lamb-chops-and-peppers\"\n",
    "\n",
    "def get_recipe_info(recipe_link):\n",
    "    recipe_dict = dict()\n",
    "    import requests\n",
    "    from bs4 import BeautifulSoup\n",
    "    try:\n",
    "        response = requests.get(recipe_link)\n",
    "        if not response.status_code == 200:\n",
    "            return recipe_dict\n",
    "        results_page = BeautifulSoup(response.content, 'lxml')\n",
    "        ingredient_list = list()\n",
    "        prep_step_list = list ()\n",
    "        for ingredient in results_page.find_all('li', class_ = 'ingredient'):\n",
    "            ingredient_list.append(ingredient.get_text())\n",
    "        for prep_step in results_page.find_all('li', class_ = 'preparation-step'):\n",
    "            prep_step_list.append(prep_step.get_text().strip())\n",
    "        recipe_dict['ingredients'] = ingredient_list\n",
    "        recipe_dict['preparation'] = prep_step_list\n",
    "        return recipe_dict\n",
    "    except:\n",
    "        return recipe_dict\n",
    "\n",
    "get_recipe_info(recipe_link)"
   ]
  },
  {
   "cell_type": "code",
   "execution_count": null,
   "metadata": {},
   "outputs": [],
   "source": [
    "# Contrsutcing a list of dictionaries for all recipes\n",
    "def get_all_recipes(keywords):\n",
    "    results = list()\n",
    "    all_recipes = get_recipes(keywords)\n",
    "    for recipe in all_recipes:\n",
    "        recipe_dict = get_reci\n",
    "        pe_info(recipe[1])\n",
    "        recipe_dict['name'] = recipe[0]\n",
    "        recipe_dict['description'] = recipe[2]\n",
    "        results.append(recipe_dict)\n",
    "    return(results)\n",
    "\n",
    "get_all_recipes(\"Lamb chops\")"
   ]
  }
 ],
 "metadata": {
  "kernelspec": {
   "display_name": "Python 3",
   "language": "python",
   "name": "python3"
  },
  "language_info": {
   "codemirror_mode": {
    "name": "ipython",
    "version": 3
   },
   "file_extension": ".py",
   "mimetype": "text/x-python",
   "name": "python",
   "nbconvert_exporter": "python",
   "pygments_lexer": "ipython3",
   "version": "3.7.3"
  }
 },
 "nbformat": 4,
 "nbformat_minor": 2
}
